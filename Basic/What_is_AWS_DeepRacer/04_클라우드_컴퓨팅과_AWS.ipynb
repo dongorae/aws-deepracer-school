{
 "cells": [
  {
   "attachments": {},
   "cell_type": "markdown",
   "metadata": {},
   "source": [
    "# 클라우드 컴퓨팅과 AWS"
   ]
  },
  {
   "attachments": {},
   "cell_type": "markdown",
   "metadata": {},
   "source": [
    "<div style=\"position: relative; width: 100%; height: 0; padding-top: 56.2500%;\n",
    " padding-bottom: 0; box-shadow: 0 2px 8px 0 rgba(63,69,81,0.16); margin-top: 1.6em; margin-bottom: 0.9em; overflow: hidden;\n",
    " border-radius: 8px; will-change: transform;\">\n",
    "  <iframe loading=\"lazy\" style=\"position: absolute; width: 100%; height: 100%; top: 0; left: 0; border: none; padding: 0;margin: 0;\"\n",
    "    src=\"https:&#x2F;&#x2F;www.canva.com&#x2F;design&#x2F;DAFaJ5lFmcU&#x2F;view?embed\" allowfullscreen=\"allowfullscreen\" allow=\"fullscreen\">\n",
    "  </iframe>\n",
    "</div>"
   ]
  },
  {
   "attachments": {},
   "cell_type": "markdown",
   "metadata": {},
   "source": [
    "## 클라우드 컴퓨팅\n",
    "\n",
    "- 클라우드 컴퓨팅이란 ?\n",
    "  - 인터넷(Internet)을 사용해서 공유자원(서버, 네트워크, 스토리지)을 사용할 수 있는 서비스\n",
    "  - IT 관련한 물리적 자원 및 기술적 자원을 임대하고 사용한 만큼 금액을 지불\n",
    "- 대중적으로 많이 사용하는 클라우드 컴퓨팅의 예로는 구글 드라이브가 있다. 구글드라이브는 스토리지에 대한 클라우드 컴퓨팅이다. 하지만, 스토리지 뿐만 아니라 CPU, RAM, GPU 등의 컴퓨터 자원도 클라우드 컴퓨팅을 통해 임대 가능하다.\n",
    "- 인공지능을 훈련시키기 위해서는 고가의 컴퓨터 장비가 필요하다. 이러한 고가의 컴퓨터 장비를 직접 구매하는 것이 부담스러울 때 클라우드 컴퓨팅을 통해 사용한 만큼 지불하여 비용 부담을 덜 수 있다.\n",
    "- 클라우드 컴퓨팅은 앞서 말한 물리적인 컴퓨터 장비들 뿐만 아니라 기술적 자원도 서비스하고있다. \n",
    "- 예를들어, 인공지능을 훈련시키기 위해서는 복잡한 프로그래밍 기술이 필요하다. 이러한 복잡한 기술을 쉽고 빠르게 구현 가능하도록 하는 서비스도 클라우드 컴퓨팅을 통해 제공받을 수 있다. \n",
    "- DeepRacer도 우리가 처음부터 모든 프로그래밍을 하는 것이 아니다. 모델 학습에 필요한 대부분의 기술은 제공을 받으며, 보상을 어떻게 줄 지에 대한 부분만 개개인이 프로그래밍하면 된다."
   ]
  },
  {
   "cell_type": "markdown",
   "metadata": {},
   "source": []
  }
 ],
 "metadata": {
  "kernelspec": {
   "display_name": "Python 3",
   "language": "python",
   "name": "python3"
  },
  "language_info": {
   "codemirror_mode": {
    "name": "ipython",
    "version": 3
   },
   "file_extension": ".py",
   "mimetype": "text/x-python",
   "name": "python",
   "nbconvert_exporter": "python",
   "pygments_lexer": "ipython3",
   "version": "3.10.6"
  },
  "orig_nbformat": 4,
  "vscode": {
   "interpreter": {
    "hash": "31f2aee4e71d21fbe5cf8b01ff0e069b9275f58929596ceb00d14d90e3e16cd6"
   }
  }
 },
 "nbformat": 4,
 "nbformat_minor": 2
}
