{
 "cells": [
  {
   "attachments": {},
   "cell_type": "markdown",
   "metadata": {},
   "source": [
    "# AWS Deepracer 란"
   ]
  },
  {
   "attachments": {},
   "cell_type": "markdown",
   "metadata": {},
   "source": [
    "<div style=\"position: relative; width: 100%; height: 0; padding-top: 56.2500%;\n",
    " padding-bottom: 0; box-shadow: 0 2px 8px 0 rgba(63,69,81,0.16); margin-top: 1.6em; margin-bottom: 0.9em; overflow: hidden;\n",
    " border-radius: 8px; will-change: transform;\">\n",
    "  <iframe loading=\"lazy\" style=\"position: absolute; width: 100%; height: 100%; top: 0; left: 0; border: none; padding: 0;margin: 0;\"\n",
    "    src=\"https:&#x2F;&#x2F;www.canva.com&#x2F;design&#x2F;DAFaE2uQdrA&#x2F;view?embed\" allowfullscreen=\"allowfullscreen\" allow=\"fullscreen\">\n",
    "  </iframe>\n",
    "</div>"
   ]
  },
  {
   "attachments": {},
   "cell_type": "markdown",
   "metadata": {},
   "source": [
    "## 섹션 소개\n",
    "\n",
    "- 본 섹션에서는 AWS DeepRacer란 무엇이고 작동원리 및 요금 정책에 대해 알아 봅니다.\n",
    "- AWS DeepRacer는 간단히 말해서 강화학습 기반 인공지능으로 1/18 비율의 완전 자율주행 자동차를 만드는 서비스입니다.\n",
    "- AWS DeepRacer를 통해 자율주행, 인공지능 및 강화학습, 데이터 분석, 로봇 공학, 클라우드 컴퓨팅 등 많은 것을 배울 수 있습니다. \n",
    "- 이에 대한 더 구체적인 내용을 이 섹션에서 알아보도록 하겠습니다. 섹션 구성은 다음과 같습니다.\n",
    "  - DeepRacer란\n",
    "  - 클라우드 컴퓨팅과 AWS\n",
    "  - DeepRacer 워크플로우\n",
    "  - DeepRacer 작동원리\n",
    "  - DeepRacer 요금 정책"
   ]
  }
 ],
 "metadata": {
  "kernelspec": {
   "display_name": "Python 3",
   "language": "python",
   "name": "python3"
  },
  "language_info": {
   "codemirror_mode": {
    "name": "ipython",
    "version": 3
   },
   "file_extension": ".py",
   "mimetype": "text/x-python",
   "name": "python",
   "nbconvert_exporter": "python",
   "pygments_lexer": "ipython3",
   "version": "3.10.6"
  },
  "orig_nbformat": 4,
  "vscode": {
   "interpreter": {
    "hash": "31f2aee4e71d21fbe5cf8b01ff0e069b9275f58929596ceb00d14d90e3e16cd6"
   }
  }
 },
 "nbformat": 4,
 "nbformat_minor": 2
}
