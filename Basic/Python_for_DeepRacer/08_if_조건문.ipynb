{
 "cells": [
  {
   "attachments": {},
   "cell_type": "markdown",
   "metadata": {},
   "source": [
    "# if 조건문"
   ]
  },
  {
   "attachments": {},
   "cell_type": "markdown",
   "metadata": {},
   "source": [
    "## if 조건문 사용 방법\n",
    "\n",
    "- if 는 최초의 조건문이고, elif 는 위 조건을 만족하지 않을 시 시작되는 조건문이다. else 는 어느 조건도\n",
    "만족하지 않을 시 실행되는 코드이다.\n",
    "- 조건을 만족하면 하위 코드가 실행되고 다른 조건문은 실행되지 않는다. 만약 조건문을 만족하지 않으면\n",
    "다음 조건문으로 넘어간다.\n",
    "- 조건문 끝에 콜론( : ) 을 붙여줘야 하며 하위 코드는 반드시 들여쓰기 (Tab 또는 Space 4번)을 해야 한다."
   ]
  },
  {
   "attachments": {},
   "cell_type": "markdown",
   "metadata": {},
   "source": [
    "## 예시 1\n",
    "\n",
    "```python\n",
    "if 조건:\n",
    "    실행 코드\n",
    "```"
   ]
  },
  {
   "cell_type": "code",
   "execution_count": 1,
   "metadata": {},
   "outputs": [
    {
     "name": "stdout",
     "output_type": "stream",
     "text": [
      "20보다 큽니다.\n"
     ]
    }
   ],
   "source": [
    "x = 30\n",
    "\n",
    "if x > 20 :\n",
    "    print(\"20보다 큽니다.\")"
   ]
  },
  {
   "attachments": {},
   "cell_type": "markdown",
   "metadata": {},
   "source": [
    "## 예시 2\n",
    "\n",
    "```python\n",
    "if 조건1:\n",
    "    실행 코드 1\n",
    "else :\n",
    "    실행 코드 2\n",
    "```"
   ]
  },
  {
   "cell_type": "code",
   "execution_count": 2,
   "metadata": {},
   "outputs": [
    {
     "name": "stdout",
     "output_type": "stream",
     "text": [
      "0과 20사이 입니다.\n"
     ]
    }
   ],
   "source": [
    "x = 10\n",
    "\n",
    "if (0 < x) and (x < 20) :\n",
    "    print(\"0과 20사이 입니다.\")\n",
    "else :\n",
    "    print(\"0 이하 또는 20 이상입니다.\")"
   ]
  },
  {
   "attachments": {},
   "cell_type": "markdown",
   "metadata": {},
   "source": [
    "## 예시 3\n",
    "\n",
    "```python\n",
    "if 조건1:\n",
    "    실행 코드 1\n",
    "elif 조건2:\n",
    "    실행 코드 2\n",
    "else :\n",
    "    실행 코드 3\n",
    "```\n"
   ]
  },
  {
   "cell_type": "code",
   "execution_count": 3,
   "metadata": {},
   "outputs": [
    {
     "name": "stdout",
     "output_type": "stream",
     "text": [
      "20보다 크지 않고 10보다 큽니다.\n"
     ]
    }
   ],
   "source": [
    "x = 15\n",
    "\n",
    "if x > 20 :\n",
    "    print(\"20보다 큽니다.\")\n",
    "elif x > 10 :\n",
    "    print(\"20보다 크지 않고 10보다 큽니다.\")\n",
    "else :\n",
    "    print(\"10보다 크지 않습니다.\")"
   ]
  },
  {
   "attachments": {},
   "cell_type": "markdown",
   "metadata": {},
   "source": [
    "\n",
    "## 예시 4\n",
    "\n",
    "```python\n",
    "if 조건1:\n",
    "    실행 코드 1\n",
    "elif 조건2:\n",
    "    실행 코드 2\n",
    "elif 조건3:\n",
    "    실행 코드 3\n",
    "else :\n",
    "    실행 코드 4\n",
    "```"
   ]
  },
  {
   "cell_type": "code",
   "execution_count": 4,
   "metadata": {},
   "outputs": [
    {
     "name": "stdout",
     "output_type": "stream",
     "text": [
      "0보다 작거나 같습니다.\n"
     ]
    }
   ],
   "source": [
    "x = -15\n",
    "\n",
    "if x > 20 :\n",
    "    print(\"20보다 큽니다.\")\n",
    "elif x > 10 :\n",
    "    print(\"20보다 크지 않고 10보다 큽니다.\")\n",
    "elif x > 0 :\n",
    "    print(\"10보다 크지 않고 0 보다 큽니다.\")\n",
    "else :\n",
    "    print(\"0보다 작거나 같습니다.\")"
   ]
  }
 ],
 "metadata": {
  "kernelspec": {
   "display_name": "Python 3",
   "language": "python",
   "name": "python3"
  },
  "language_info": {
   "codemirror_mode": {
    "name": "ipython",
    "version": 3
   },
   "file_extension": ".py",
   "mimetype": "text/x-python",
   "name": "python",
   "nbconvert_exporter": "python",
   "pygments_lexer": "ipython3",
   "version": "3.10.6"
  },
  "orig_nbformat": 4,
  "vscode": {
   "interpreter": {
    "hash": "31f2aee4e71d21fbe5cf8b01ff0e069b9275f58929596ceb00d14d90e3e16cd6"
   }
  }
 },
 "nbformat": 4,
 "nbformat_minor": 2
}
