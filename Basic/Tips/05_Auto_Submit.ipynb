{
 "cells": [
  {
   "attachments": {},
   "cell_type": "markdown",
   "metadata": {},
   "source": [
    "# Auto Submit"
   ]
  },
  {
   "attachments": {},
   "cell_type": "markdown",
   "metadata": {},
   "source": [
    "## 준비 작업\n",
    "\n",
    "- 설치\n",
    "  ```bash\n",
    "  # 설치\n",
    "  pip3 install deepracer-utils\n",
    "  # python3 -m deepracer install-cli --force\n",
    "\n",
    "  # 확인 1\n",
    "  aws deepracer help\n",
    "\n",
    "  # 확인 2\n",
    "  aws deepracer list-models --model-type \"REINFORCEMENT_LEARNING\"\n",
    "  ```\n",
    "\n",
    "- 반복문 돌리기\n",
    "  ```bash\n",
    "  while true\n",
    "  do\n",
    "    sh submit.sh\n",
    "    sleep 300 # 5분 간격으로 실행\n",
    "  done &\n",
    "  ```\n",
    "\n",
    "- 리더보드 ARN 추출 : <https://www.urldecoder.org/>"
   ]
  },
  {
   "attachments": {},
   "cell_type": "markdown",
   "metadata": {},
   "source": [
    "## 크론 탭 쉘스크립트 작성\n",
    "\n",
    "```bash\n",
    "\n",
    "cat <<EOF >./submit.sh\n",
    "LEADERBOARD_ARN=\"arn:aws:deepracer:::leaderboard/2c29f173-dfe6-456d-a0b0-0f06fe86b5a1\"\n",
    "ModelName=\"2303-v2-2\"\n",
    "\n",
    "MODEL_ARN=$(aws deepracer list-models \\\n",
    "--model-type \"REINFORCEMENT_LEARNING\" \\\n",
    "--query \"Models[?ModelName=='$ModelName'].ModelArn | [0]\" \\\n",
    "--output text)\n",
    "\n",
    "aws deepracer create-leaderboard-submission --model-arn \"${MODEL_ARN}\" --leaderboard-arn \"${LEADERBOARD_ARN}\" --region us-east-1 --terms-accepted\n",
    "\n",
    "EOF\n",
    "\n",
    "```"
   ]
  },
  {
   "attachments": {},
   "cell_type": "markdown",
   "metadata": {},
   "source": [
    "```bash\n",
    "LEADERBOARD_ARN=\"arn:aws:deepracer:::leaderboard/2c29f173-dfe6-456d-a0b0-0f06fe86b5a1\"\n",
    "ModelName=\"2303-v2-2\"\n",
    "\n",
    "MODEL_ARN=$(aws deepracer list-models \\\n",
    "--model-type \"REINFORCEMENT_LEARNING\" \\\n",
    "--query \"Models[?ModelName=='$ModelName'].ModelArn | [0]\" \\\n",
    "--output text)\n",
    "\n",
    "while true\n",
    "do\n",
    "  date\n",
    "  aws deepracer create-leaderboard-submission \\\n",
    "  --model-arn \"${MODEL_ARN}\" \\\n",
    "  --leaderboard-arn \"${LEADERBOARD_ARN}\" \\\n",
    "  --region us-east-1 \\\n",
    "  --terms-accepted\n",
    "  sleep 60 # 1분 간격으로 실행\n",
    "done\n",
    "```"
   ]
  },
  {
   "cell_type": "markdown",
   "metadata": {},
   "source": []
  }
 ],
 "metadata": {
  "kernelspec": {
   "display_name": "Python 3",
   "language": "python",
   "name": "python3"
  },
  "language_info": {
   "codemirror_mode": {
    "name": "ipython",
    "version": 3
   },
   "file_extension": ".py",
   "mimetype": "text/x-python",
   "name": "python",
   "nbconvert_exporter": "python",
   "pygments_lexer": "ipython3",
   "version": "3.10.6"
  },
  "orig_nbformat": 4,
  "vscode": {
   "interpreter": {
    "hash": "31f2aee4e71d21fbe5cf8b01ff0e069b9275f58929596ceb00d14d90e3e16cd6"
   }
  }
 },
 "nbformat": 4,
 "nbformat_minor": 2
}
