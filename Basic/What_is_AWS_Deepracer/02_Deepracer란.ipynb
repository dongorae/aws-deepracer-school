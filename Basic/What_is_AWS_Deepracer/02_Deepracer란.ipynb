{
 "cells": [
  {
   "attachments": {},
   "cell_type": "markdown",
   "metadata": {},
   "source": [
    "# Deepracer 란?"
   ]
  },
  {
   "attachments": {},
   "cell_type": "markdown",
   "metadata": {},
   "source": [
    "<div style=\"position: relative; width: 100%; height: 0; padding-top: 56.2500%;\n",
    " padding-bottom: 0; box-shadow: 0 2px 8px 0 rgba(63,69,81,0.16); margin-top: 1.6em; margin-bottom: 0.9em; overflow: hidden;\n",
    " border-radius: 8px; will-change: transform;\">\n",
    "  <iframe loading=\"lazy\" style=\"position: absolute; width: 100%; height: 100%; top: 0; left: 0; border: none; padding: 0;margin: 0;\"\n",
    "    src=\"https:&#x2F;&#x2F;www.canva.com&#x2F;design&#x2F;DAFaJr3sAO4&#x2F;view?embed\" allowfullscreen=\"allowfullscreen\" allow=\"fullscreen\">\n",
    "  </iframe>\n",
    "</div>"
   ]
  },
  {
   "attachments": {},
   "cell_type": "markdown",
   "metadata": {},
   "source": [
    "## 공식 웹사이트\n",
    "\n",
    "- <https://aws.amazon.com/deepracer>"
   ]
  },
  {
   "attachments": {},
   "cell_type": "markdown",
   "metadata": {},
   "source": [
    "## 공식 소개 글\n",
    "\n",
    "- 공식 웹사이트에서는 Deepracer에 대해 다음과 같이 소개하고 있습니다.\n",
    "- 모든 기술 수준의 개발자가 클라우드 기반 3D 레이싱 시뮬레이터, 강화 학습으로 움직이는 1/18 비율의 완전 자율 경주용 자동차 및 글로벌 레이싱 리그를 통해 기계 학습을 경험할 수 있습니다."
   ]
  },
  {
   "attachments": {},
   "cell_type": "markdown",
   "metadata": {},
   "source": [
    "## 강화학습의 선두주자\n",
    "\n",
    "- Deepracer 에서 가장 중요한 것은 강화학습입니다. Deepracer는 자신들을 강화 학습의 선두 주자라고 소개합니다.\n",
    "- 강화학습은 인공지능 분야에서 특이한 분야로 손에 꼽힙니다. 강화학습은 모델을 통해 학습시킬 때 잘한 행동과 나쁜 행동에 대한 차별적인 보상을 주면서 학습시킵니다. 모델은 좋은 보상을 받기위해 자신의 행동을 조정합니다.\n",
    "- Deepracer는 강화학습을 재미있게 배울 수 있는 교육용 서비스입니다."
   ]
  },
  {
   "attachments": {},
   "cell_type": "markdown",
   "metadata": {},
   "source": [
    "## 서비스\n",
    "\n",
    "- AWS Deepracer에서 제공하는 서비스는 크게 '시뮬레이터', '자동차', '리그'로 나뉘어 질 수 있습니다.\n",
    "\n",
    "1. 시뮬레이터\n",
    "    - 모델을 훈련시키기 위해서는 시뮬레이션 공간이 필요합니다. AWS Deepracer는 자체적으로 제작한 시뮬레이션 공간을 제공합니다.\n",
    "    - 실제 세계에서 자동차를 훈련시키는 것 보다 시뮬레이션 공간에서 훈련시키는 것이 훨씬 효율적입니다. 예를들어 현실 세계에서는 훈련 도중에 차가 쉽게 망가질 수 있지만, 시뮬레이션 공간에서는 그러한 일이 발생하지 않습니다.\n",
    "    - 또한 시뮬레이션에서는 차를 항상 쫓아다닐 필요가 없고 시간을 빨리감기도 가능하며 동시에 똑같은 여러개의 공간을 만들어 더욱 빠르게 훈련도 가능하기 때문에 생산성이 좋습니다.\n",
    "2. 자동차\n",
    "    - 훈련시킨 모델을 구동시킬 실제 물리적 차량을 제공합니다. \n",
    "    - 개인이 이러한 실제 물리적 차량을 제작하는 것은 어려운 일입니다. 하지만 Amazon 에서 이미 제작된 1/18 비율의 실제 물리적 차량을 구매 가능합니다.\n",
    "3. 리그\n",
    "    - 훈련시킨 모델을 다른 사람들과 경쟁할 수 있는 플랫폼을 제공합니다.\n",
    "    - 내가 만든 모델을 다른 사람과 경쟁하면서 경쟁심과 흥미를 고취시킬 수 있습니다."
   ]
  },
  {
   "attachments": {},
   "cell_type": "markdown",
   "metadata": {},
   "source": [
    "## 배울 수 있는 것\n",
    "\n",
    "- AWS Deepracer의 이름을 보면 무엇을 배울 수 있는지 알 수 있습니다.\n",
    "- 'AWS', 'Deep', 'Racer' 세 단어로 나누어서 살펴보도록 하겠습니다.\n",
    "\n",
    "1. AWS\n",
    "    - AWS는 Amazon Web Service의 약자로 클라우드 컴퓨팅 서비스 업체 중 하나입니다.\n",
    "    - 클라우드 컴퓨팅은 쉽게 말해서 컴퓨터 자원을 랜탈하여 사용한 만큼 지불하는 서비스 입니다.\n",
    "    - 인터넷만 있으면 어디서든 나만의 컴퓨터를 구축할 수 있습니다. 단순히 물리적인 서비스 외에도 인공지능과 같은 기술적인 부분에 대한 서비스도 존재합니다.\n",
    "    - 자율주행 모델을 훈련시키기 위해서는 고가의 컴퓨터 서버가 필요합니다. AWS 에서 이러한 컴퓨터 자원을 임대하여 모델을 훈련시킬 수 있습니다.\n",
    "    - 또한 강화학습과 같은 인공지능 기술을 구현하려면 고도화 된 소프트웨어 기술이 필요합니다. 이러한 기술적인 부분도 AWS를 통해 지원받을 수 있습니다.\n",
    "2. Deep\n",
    "    - 'Deep'은 Deep Learning 을 줄여서 표현한 것입니다."
   ]
  },
  {
   "cell_type": "markdown",
   "metadata": {},
   "source": []
  }
 ],
 "metadata": {
  "kernelspec": {
   "display_name": "Python 3",
   "language": "python",
   "name": "python3"
  },
  "language_info": {
   "codemirror_mode": {
    "name": "ipython",
    "version": 3
   },
   "file_extension": ".py",
   "mimetype": "text/x-python",
   "name": "python",
   "nbconvert_exporter": "python",
   "pygments_lexer": "ipython3",
   "version": "3.10.6"
  },
  "orig_nbformat": 4,
  "vscode": {
   "interpreter": {
    "hash": "31f2aee4e71d21fbe5cf8b01ff0e069b9275f58929596ceb00d14d90e3e16cd6"
   }
  }
 },
 "nbformat": 4,
 "nbformat_minor": 2
}
