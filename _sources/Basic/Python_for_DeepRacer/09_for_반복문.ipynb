{
 "cells": [
  {
   "attachments": {},
   "cell_type": "markdown",
   "metadata": {},
   "source": [
    "# for 반복문"
   ]
  },
  {
   "attachments": {},
   "cell_type": "markdown",
   "metadata": {},
   "source": [
    "## for 조건문 사용 방법\n",
    "\n",
    "- \"for\" 반복문은 파이썬에서 특정 구간 내에 있는 요소들을 순차적으로 순회하며 반복 처리할 때 사용하는 반복문입니다.\n",
    "- for문 첫줄 끝에 콜론( : ) 을 붙여줘야 하며 하위 코드는 반드시 들여쓰기 (Tab 또는 Space 4번)을 해야 한다.\n",
    "<br><br>\n",
    "- 다음은 \"for\" 반복문의 기본적인 구조입니다:\n",
    "  ```python\n",
    "  for 변수 in 범위:\n",
    "      수행할 문장\n",
    "  ```\n",
    "  - `변수`는 반복문을 순회할 때마다 값이 변경되는 변수입니다.\n",
    "  - `범위`는 반복문을 순회할 요소들이 들어있는 구간입니다. 범위는 리스트, 튜플, 문자열, 딕셔너리 등의 시퀀스 자료형이나 range() 함수로 생성된 객체 등으로 지정할 수 있습니다.\n",
    "  - `수행할 문장`은 반복문을 순회할 때마다 실행할 코드 블록입니다."
   ]
  },
  {
   "attachments": {},
   "cell_type": "markdown",
   "metadata": {},
   "source": [
    "# 예시 1 : range"
   ]
  },
  {
   "cell_type": "code",
   "execution_count": 1,
   "metadata": {},
   "outputs": [
    {
     "name": "stdout",
     "output_type": "stream",
     "text": [
      "0\n",
      "1\n",
      "2\n",
      "3\n",
      "4\n"
     ]
    }
   ],
   "source": [
    "# 0부터 5 미만까지 반복\n",
    "for i in range(5):\n",
    "    print(i)\n"
   ]
  },
  {
   "cell_type": "code",
   "execution_count": 2,
   "metadata": {},
   "outputs": [
    {
     "name": "stdout",
     "output_type": "stream",
     "text": [
      "2\n",
      "3\n",
      "4\n"
     ]
    }
   ],
   "source": [
    "# 2부터 5 미만까지 반복\n",
    "for i in range(2,5):\n",
    "    print(i)\n"
   ]
  },
  {
   "cell_type": "code",
   "execution_count": 6,
   "metadata": {},
   "outputs": [
    {
     "name": "stdout",
     "output_type": "stream",
     "text": [
      "2\n",
      "5\n",
      "8\n"
     ]
    }
   ],
   "source": [
    "# 2부터 10미만 까지 2 단위로 반복\n",
    "for i in range(2,10,3):\n",
    "    print(i)\n"
   ]
  },
  {
   "attachments": {},
   "cell_type": "markdown",
   "metadata": {},
   "source": [
    "# 예시 2 : 리스트 원소 반복"
   ]
  },
  {
   "cell_type": "code",
   "execution_count": 8,
   "metadata": {},
   "outputs": [
    {
     "name": "stdout",
     "output_type": "stream",
     "text": [
      "1\n",
      "2\n",
      "3\n",
      "4\n"
     ]
    }
   ],
   "source": [
    "# 리스트의 원소를 반복\n",
    "for i in [1,2,3,4]:\n",
    "    print(i)\n"
   ]
  },
  {
   "attachments": {},
   "cell_type": "markdown",
   "metadata": {},
   "source": [
    "## 반복문 제어 : continue, break\n",
    "\n",
    "- `continue` : 다음 반복으로 넘어감\n",
    "- `break` : 반복문을 종료"
   ]
  },
  {
   "cell_type": "code",
   "execution_count": 3,
   "metadata": {},
   "outputs": [
    {
     "name": "stdout",
     "output_type": "stream",
     "text": [
      "2\n",
      "3\n",
      "4\n"
     ]
    }
   ],
   "source": [
    "for i in range(5) :\n",
    "    if i < 2 :\n",
    "        continue\n",
    "    print(i)"
   ]
  },
  {
   "cell_type": "code",
   "execution_count": 4,
   "metadata": {},
   "outputs": [
    {
     "name": "stdout",
     "output_type": "stream",
     "text": [
      "0\n",
      "1\n",
      "2\n"
     ]
    }
   ],
   "source": [
    "for i in range(5) :\n",
    "    if i > 2 :\n",
    "        break\n",
    "    print(i)"
   ]
  },
  {
   "attachments": {},
   "cell_type": "markdown",
   "metadata": {},
   "source": []
  }
 ],
 "metadata": {
  "kernelspec": {
   "display_name": "Python 3",
   "language": "python",
   "name": "python3"
  },
  "language_info": {
   "codemirror_mode": {
    "name": "ipython",
    "version": 3
   },
   "file_extension": ".py",
   "mimetype": "text/x-python",
   "name": "python",
   "nbconvert_exporter": "python",
   "pygments_lexer": "ipython3",
   "version": "3.10.6"
  },
  "orig_nbformat": 4,
  "vscode": {
   "interpreter": {
    "hash": "31f2aee4e71d21fbe5cf8b01ff0e069b9275f58929596ceb00d14d90e3e16cd6"
   }
  }
 },
 "nbformat": 4,
 "nbformat_minor": 2
}
