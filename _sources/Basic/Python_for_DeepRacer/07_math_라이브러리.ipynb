{
 "cells": [
  {
   "attachments": {},
   "cell_type": "markdown",
   "metadata": {},
   "source": [
    "# math Library"
   ]
  },
  {
   "attachments": {},
   "cell_type": "markdown",
   "metadata": {},
   "source": [
    "## Library 란\n",
    "\n",
    "1. Library(라이브러리)\n",
    "  - \"Library\"는 프로그래밍 언어에서 이미 작성된 코드의 모음을 말합니다. \n",
    "  - 특정 기능을 수행하는 프로그램이나 기능을 미리 작성하여 저장하고, 다른 프로그램에서 이를 가져다 쓸 수 있는 것입니다.\n",
    "  - 파이썬에서는 기본적으로 포함된 Library와 외부 Library 두 가지 종류의 Library가 있습니다. \n",
    "  - 기본적으로 포함된 Library는 파이썬을 설치할 때 자동으로 설치되는 Library이고, 외부 Library는 파이썬을 설치한 후에 추가적으로 설치하여 사용할 수 있는 Library입니다.\n",
    "  - Library를 사용하면 프로그램을 작성하는 데 필요한 많은 기능을 간단하게 사용할 수 있어서, 프로그램을 개발하는데 많은 시간을 절약할 수 있습니다.\n",
    "<br><br>\n",
    "\n",
    "2. math 라이브러리\n",
    "  - 파이썬 내장 라이브러리 중 하나로, 수학과 관련된 기능들을 제공한다.\n",
    "<br><br>\n",
    "\n",
    "3. 라이브러리 사용방법\n",
    "  - 라이브러리를 불러오는 방법 :  `import 라이브러리명`  \n",
    "    - (ex) `import math`\n",
    "  - 라이브러리 내의 변수 등의 특정 기능을 호출할 때는, 라이브러리명 뒤에 점(.)을 붙여서 호출  \n",
    "    - (ex) `math.log()` : math 라이브러리의 log함수"
   ]
  },
  {
   "attachments": {},
   "cell_type": "markdown",
   "metadata": {},
   "source": [
    "## math 라이브러리 가져오기"
   ]
  },
  {
   "cell_type": "code",
   "execution_count": 1,
   "metadata": {},
   "outputs": [],
   "source": [
    "# 라이브러리 가져오기\n",
    "import math"
   ]
  },
  {
   "attachments": {},
   "cell_type": "markdown",
   "metadata": {},
   "source": [
    "## 원주율(pi)과 자연상수(e)"
   ]
  },
  {
   "cell_type": "code",
   "execution_count": 2,
   "metadata": {},
   "outputs": [
    {
     "name": "stdout",
     "output_type": "stream",
     "text": [
      "3.141592653589793\n"
     ]
    }
   ],
   "source": [
    "# 원주율\n",
    "print(math.pi)"
   ]
  },
  {
   "cell_type": "code",
   "execution_count": 3,
   "metadata": {},
   "outputs": [
    {
     "name": "stdout",
     "output_type": "stream",
     "text": [
      "2.718281828459045\n"
     ]
    }
   ],
   "source": [
    "# 오일러 자연상수\n",
    "print(math.e)"
   ]
  },
  {
   "attachments": {},
   "cell_type": "markdown",
   "metadata": {},
   "source": [
    "## 각도 단위변환"
   ]
  },
  {
   "attachments": {},
   "cell_type": "markdown",
   "metadata": {},
   "source": [
    "- `math.degrees(라디안각)` : 라디안각을 60분법각으로 변환\n",
    "- `math.radians(60분법각)` : 60분법각을 라디안각으로 변환"
   ]
  },
  {
   "cell_type": "code",
   "execution_count": 5,
   "metadata": {},
   "outputs": [
    {
     "name": "stdout",
     "output_type": "stream",
     "text": [
      "180.0\n"
     ]
    }
   ],
   "source": [
    "# 라디안각을 60분법각으로 변환\n",
    "print(math.degrees(math.pi))"
   ]
  },
  {
   "cell_type": "code",
   "execution_count": 7,
   "metadata": {},
   "outputs": [
    {
     "name": "stdout",
     "output_type": "stream",
     "text": [
      "3.141592653589793\n"
     ]
    }
   ],
   "source": [
    "# 60분법각을 라디안각으로 변환\n",
    "print(math.radians(180))"
   ]
  },
  {
   "attachments": {},
   "cell_type": "markdown",
   "metadata": {},
   "source": [
    "## atan 함수\n",
    "\n",
    "- `math.atan(기울기)` : 기율기의 라디안각을 반환\n",
    "- `math.atan2(y성분, x성분)` : 벡터의 라디안각을 반환"
   ]
  },
  {
   "cell_type": "code",
   "execution_count": 8,
   "metadata": {},
   "outputs": [
    {
     "name": "stdout",
     "output_type": "stream",
     "text": [
      "45.0\n"
     ]
    }
   ],
   "source": [
    "rad = math.atan(1) # 기울기 1의 라디안각\n",
    "deg = math.degrees(rad) # 라디안각을 60분법으로 변환\n",
    "\n",
    "print(deg)"
   ]
  },
  {
   "cell_type": "code",
   "execution_count": 9,
   "metadata": {},
   "outputs": [
    {
     "name": "stdout",
     "output_type": "stream",
     "text": [
      "59.99999999999999\n"
     ]
    }
   ],
   "source": [
    "x = 1\n",
    "y = 3 ** (1/2)  # 루트 3\n",
    "\n",
    "rad = math.atan2(y,x) # (1, 루트3) 벡터의 라디안각\n",
    "deg = math.degrees(rad) # 라디안각을 60분법으로 변환\n",
    "\n",
    "print(deg)"
   ]
  },
  {
   "attachments": {},
   "cell_type": "markdown",
   "metadata": {},
   "source": [
    "## 삼각함수 sin,cos,tan\n",
    "\n",
    "- `math.sin()` : 사인함수\n",
    "- `math.cos()` : 코사인함수\n",
    "- `math.tan()` : 탄젠트 함수"
   ]
  },
  {
   "cell_type": "code",
   "execution_count": 10,
   "metadata": {},
   "outputs": [
    {
     "name": "stdout",
     "output_type": "stream",
     "text": [
      "-1.0\n"
     ]
    }
   ],
   "source": [
    "# cos 함수\n",
    "x = math.cos(math.pi)\n",
    "\n",
    "print(x)"
   ]
  },
  {
   "cell_type": "code",
   "execution_count": 11,
   "metadata": {},
   "outputs": [
    {
     "name": "stdout",
     "output_type": "stream",
     "text": [
      "1.2246467991473532e-16\n"
     ]
    }
   ],
   "source": [
    "# sin 함수\n",
    "x = math.sin(math.pi)\n",
    "\n",
    "print(x)"
   ]
  },
  {
   "cell_type": "code",
   "execution_count": 12,
   "metadata": {},
   "outputs": [
    {
     "name": "stdout",
     "output_type": "stream",
     "text": [
      "-1.2246467991473532e-16\n"
     ]
    }
   ],
   "source": [
    "# sin 함수\n",
    "x = math.tan(math.pi)\n",
    "\n",
    "print(x)"
   ]
  },
  {
   "attachments": {},
   "cell_type": "markdown",
   "metadata": {},
   "source": [
    "## 로그함수\n",
    "\n",
    "- `math.log()` : 자연로그\n",
    "- `math.log2()` : 밑이 2인 로그\n",
    "- `math.log10()` : 밑이 10인 로그"
   ]
  },
  {
   "cell_type": "code",
   "execution_count": 13,
   "metadata": {},
   "outputs": [
    {
     "data": {
      "text/plain": [
       "1.0"
      ]
     },
     "execution_count": 13,
     "metadata": {},
     "output_type": "execute_result"
    }
   ],
   "source": [
    "# 자연로그\n",
    "\n",
    "math.log(math.e)"
   ]
  },
  {
   "cell_type": "code",
   "execution_count": 16,
   "metadata": {},
   "outputs": [
    {
     "data": {
      "text/plain": [
       "2.0"
      ]
     },
     "execution_count": 16,
     "metadata": {},
     "output_type": "execute_result"
    }
   ],
   "source": [
    "# 밑이 10인 로그\n",
    "\n",
    "math.log10(10**2)"
   ]
  }
 ],
 "metadata": {
  "kernelspec": {
   "display_name": "Python 3",
   "language": "python",
   "name": "python3"
  },
  "language_info": {
   "codemirror_mode": {
    "name": "ipython",
    "version": 3
   },
   "file_extension": ".py",
   "mimetype": "text/x-python",
   "name": "python",
   "nbconvert_exporter": "python",
   "pygments_lexer": "ipython3",
   "version": "3.10.6"
  },
  "orig_nbformat": 4,
  "vscode": {
   "interpreter": {
    "hash": "31f2aee4e71d21fbe5cf8b01ff0e069b9275f58929596ceb00d14d90e3e16cd6"
   }
  }
 },
 "nbformat": 4,
 "nbformat_minor": 2
}
