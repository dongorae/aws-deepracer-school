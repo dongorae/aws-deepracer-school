{
 "cells": [
  {
   "attachments": {},
   "cell_type": "markdown",
   "metadata": {},
   "source": [
    "# 배울 수 있는 것"
   ]
  },
  {
   "attachments": {},
   "cell_type": "markdown",
   "metadata": {},
   "source": [
    "<div style=\"position: relative; width: 100%; height: 0; padding-top: 56.2500%;\n",
    " padding-bottom: 0; box-shadow: 0 2px 8px 0 rgba(63,69,81,0.16); margin-top: 1.6em; margin-bottom: 0.9em; overflow: hidden;\n",
    " border-radius: 8px; will-change: transform;\">\n",
    "  <iframe loading=\"lazy\" style=\"position: absolute; width: 100%; height: 100%; top: 0; left: 0; border: none; padding: 0;margin: 0;\"\n",
    "    src=\"https:&#x2F;&#x2F;www.canva.com&#x2F;design&#x2F;DAFbekPiLck&#x2F;view?embed\" allowfullscreen=\"allowfullscreen\" allow=\"fullscreen\">\n",
    "  </iframe>\n",
    "</div>"
   ]
  },
  {
   "attachments": {},
   "cell_type": "markdown",
   "metadata": {},
   "source": [
    "- AWS DeepRacer의 이름을 보면 무엇을 배울 수 있는지 알 수 있습니다.\n",
    "- 'AWS', 'Deep', 'Racer' 세 단어로 나누어서 살펴보도록 하겠습니다."
   ]
  },
  {
   "attachments": {},
   "cell_type": "markdown",
   "metadata": {},
   "source": [
    "## 1. AWS\n",
    "\n",
    "- 클라우드 컴퓨팅에 대해 배울 수 있습니다.\n",
    "  - AWS는 Amazon Web Service의 약자로 클라우드 컴퓨팅 서비스 업체 중 하나입니다.\n",
    "  - 클라우드 컴퓨팅은 쉽게 말해서 컴퓨터 자원을 랜탈하여 사용한 만큼 지불하는 서비스 입니다.\n",
    "  - 인터넷만 있으면 어디서든 나만의 컴퓨터를 구축할 수 있습니다. 단순히 물리적인 서비스 외에도 인공지능과 같은 기술적인 부분에 대한 서비스도 존재합니다.\n",
    "  - 자율주행 모델을 훈련시키기 위해서는 고가의 컴퓨터 서버가 필요합니다. AWS 에서 이러한 컴퓨터 자원을 임대하여 모델을 훈련시킬 수 있습니다.\n",
    "  - 또한 강화학습과 같은 인공지능 기술을 구현하려면 고도화 된 소프트웨어 기술이 필요합니다. 이러한 기술적인 부분도 AWS를 통해 지원받을 수 있습니다."
   ]
  },
  {
   "attachments": {},
   "cell_type": "markdown",
   "metadata": {},
   "source": [
    "## 2. Deep\n",
    "\n",
    "- 인공지능과 딥러닝에 대해 배울 수 있습니다.\n",
    "  - 'Deep'은 Deep Learning 을 줄여서 표현한 것입니다. \n",
    "  - DeepRacer는 Deep Learning으로 학습을 진행합니다. 따라서 Deep 이라는 단어가 포함되어있습니다.\n",
    "  - Deep Learning 은 인공지능에서 가장 인기있는 최신 분야 중 하나입니다. DeepRacer를 통해 최신 인공지능 기술에 대해 학습이 가능합니다.\n",
    "  - 기계를 학습을 시키기 위해서는 우선 모델이 필요합니다. 모델이란 일종의 일종의 함수와 같은 것입니다. 인공지능에서 사용하는 모델은 다양한 종류가 존재합니다. 그 중 DNN (Deep Neural Network) 이라는 인간의 신경망 구조를 모방하여 만든 모델을 학습시키는 것을 Deep Learning 이라고 합니다.\n",
    "  - DeepRacer는 DNN 계열의 모델을 사용하여 Deep Learning으로 모델을 학습시킵니다.\n",
    "\n",
    "- 강화학습에 대해 배울 수 있습니다.\n",
    "  - 모델을 학습시킬 때에 다양한 방식이 존재합니다. 일반적으로 많이 사용하는 방식은 지도학습입니다. \n",
    "  - 지도학습은 사람이 모델에게 직접 정답을 알려줍니다. 이를 통해 기계는 정답을 추론하는 방법을 학습합니다.\n",
    "  - 또 다른 방식은 강화학습입니다. 강화학습은 정답을 알려주는 지도학습과는 다르게 정답이 아닌 보상을 통해 모델을 학습시킵니다. 사람은 기계에게 잘한 행동에 대해서는 높은 점수를 주고 못한 행동에 대해서는 낮은 점수를 줍니다.\n",
    "  - 기계는 높은 점수를 받은 행동을 강화하고 낮은 점수를 받은 행동을 약화시킵니다. 이를 통해 자신의 행동을 조정해 갑니다. \n",
    "  - DeepRacer는 강화학습 방식으로 모델을 학습시킵니다. \n",
    "\n",
    "- Python과 Tensorflow에 대해 배울 수 있습니다.\n",
    "  - DeepRacer에서 사용하는 기본 프로그래밍 언어는 Python 입니다.\n",
    "  - 예를 들어, 우리는 나중에 파이썬 언어를 통해 기계에게 보상을 주는 방식을 코딩할 것입니다.\n",
    "  - DeepRacer에서 필요한 파이썬 기본 문법에 대해 이 강의에서 다룰 것입니다.\n",
    "  - 또한 파이썬 라이브러리 중 하나인 Tensorflow를 활용합니다. \n",
    "  - Tensorflow를 활용하여 모델을 커스터마이징 하는 것도 가능하지만 이 강의에서는 다루지 않습니다."
   ]
  },
  {
   "attachments": {},
   "cell_type": "markdown",
   "metadata": {},
   "source": [
    "## 3. Racer\n",
    "\n",
    "- 자율주행에서 대해 배울 수 있습니다.\n",
    "  - 자율주행에서 사용되는 Camera, Lidar 등의 센서 장비에 대해 배울 수 있습니다.\n",
    "  - DeepRacer에서 지원 되는 센서 장비에는 Camera, Lidar 두 종류가 있습니다.\n",
    "  - Camera는 물체의 색상 정보를 식별하고, Lidar는 물체의 거리 정보를 식별합니다.\n",
    "  - 모델은 이러한 센서 장비로 부터 받아 온 데이터를 입력받은 후 핸들 각도 및 속도를 결정합니다.\n",
    "- ROS 에 대해 배울 수 있습니다.\n",
    "  - ROS는 \"Robot Operating System\"의 약자로, 로봇 소프트웨어 개발을 위한 오픈 소스 플랫폼입니다. \n",
    "  - DeepRacer는 ROS 로 구동됩니다. DeepRacer는 바퀴 달린 로봇이라고 생각하면 쉽습니다.\n",
    "  - DeepRacer를 커스터마이징 하여 경주용 차량이 아닌 다른 방식으로 개조하는 것도 가능합니다.\n",
    "  - 예를들어, DeepRacer를 서빙 봇으로 만들거나 애완 동물처럼 사람을 따라다니게 만들 수도 있습니다.\n",
    "  - ROS 에 대해서는 본 강의에서는 다루지 않습니다. 추후 DeepRacer를 활용한 로봇 공학 강의를 별도로 제작할 예정입니다."
   ]
  },
  {
   "attachments": {},
   "cell_type": "markdown",
   "metadata": {},
   "source": [
    "## 그 외\n",
    "\n",
    "- 본 강의에서  Ubuntu Linux 와 Docker 에 대해 간략하게 다룹니다.\n",
    "  - Tips 섹션의 DRfC (DeepRacer for Cloud) 강의에서 DeepRacer 비용을 절감할 수 있는 방법에 대해 다룹니다. 이때, Ubuntu Linux 와 Docker를 다룰 것입니다.\n",
    "  - Ubuntu Linux 및 Docker 대해 알면 DeepRacer를 활용하는 데에 도움이 될 수 있지만 이것을 모른다고 해서 본 강의를 수강하는 데에 지장이 없습니다.\n",
    "- DeepRacer에서 사용하는 기본 OS (운영체제)는 Ubuntu Linux 입니다.\n",
    "- DeepRacer에서 모델을 훈련할 때 Docker를 사용합니다.\n",
    "  - 도커(Docker)는 컨테이너 기반의 오픈 소스 가상화 플랫폼으로, 애플리케이션을 더 쉽게 개발, 배포 및 실행할 수 있도록 도와주는 도구입니다.\n",
    "  - DeepRacer 모델을 훈련시키기 위해서는 크게 두 종류의 애플리케이션이 필요합니다. 하나는 시뮬레이션이고 다른 하나는 모델을 훈련하여 업데이트하는 것입니다.\n",
    "  - 도커는 이러한 애플리케이션을 쉽고 빠르게 가져와서 실행시켜 줄 수 있도록 도와줍니다.\n",
    "  "
   ]
  }
 ],
 "metadata": {
  "kernelspec": {
   "display_name": "Python 3",
   "language": "python",
   "name": "python3"
  },
  "language_info": {
   "codemirror_mode": {
    "name": "ipython",
    "version": 3
   },
   "file_extension": ".py",
   "mimetype": "text/x-python",
   "name": "python",
   "nbconvert_exporter": "python",
   "pygments_lexer": "ipython3",
   "version": "3.10.6"
  },
  "orig_nbformat": 4,
  "vscode": {
   "interpreter": {
    "hash": "31f2aee4e71d21fbe5cf8b01ff0e069b9275f58929596ceb00d14d90e3e16cd6"
   }
  }
 },
 "nbformat": 4,
 "nbformat_minor": 2
}
