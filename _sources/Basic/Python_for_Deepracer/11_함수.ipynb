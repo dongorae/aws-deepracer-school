{
 "cells": [
  {
   "attachments": {},
   "cell_type": "markdown",
   "metadata": {},
   "source": [
    "# 함수"
   ]
  },
  {
   "attachments": {},
   "cell_type": "markdown",
   "metadata": {},
   "source": [
    "## 사용자 정의 함수\n",
    "\n",
    "- 사용자 정의 함수(user-defined function)을 작성하여, 자주 사용되는 코드 블록을 재사용 할 수 있습니다.\n",
    "- `def 함수명(입력변수)` 와 같이 정의한다.\n",
    "- 첫 줄 끝에 콜론( : ) 을 붙여줘야 하며 하위 코드는 반드시 들여쓰기 (Tab 또는 Space 4번)을 해야 합니다.\n",
    "<br>\n",
    "\n",
    "- 기본 구조는 다음과 같습니다.\n",
    "  ```python\n",
    "  def function_name(arg1, arg2, ...):\n",
    "      # function body\n",
    "      # statements\n",
    "      return [expression]\n",
    "  ```\n",
    "  - `function_name`은 함수의 이름입니다.\n",
    "  - `arg1, arg2, ...`은 함수의 인자(argument)를 나타내며, 함수를 호출할 때 전달되는 값입니다.\n",
    "  - `# function body` 부분은 함수의 본체이며, 함수가 수행할 코드를 포함하고 있습니다.\n",
    "  - `return [expression]` 부분은 함수의 결과를 반환합니다. `return` 뒤에 위치한 `expression`은 함수의 반환 값입니다."
   ]
  },
  {
   "attachments": {},
   "cell_type": "markdown",
   "metadata": {},
   "source": [
    "- 예시 1"
   ]
  },
  {
   "cell_type": "code",
   "execution_count": 2,
   "metadata": {},
   "outputs": [],
   "source": [
    "def square_plus_one(x) :\n",
    "    y = x**2 + 1\n",
    "    return y"
   ]
  },
  {
   "cell_type": "code",
   "execution_count": 4,
   "metadata": {},
   "outputs": [
    {
     "name": "stdout",
     "output_type": "stream",
     "text": [
      "2\n"
     ]
    }
   ],
   "source": [
    "y = square_plus_one(1)\n",
    "print(y)"
   ]
  },
  {
   "cell_type": "code",
   "execution_count": 5,
   "metadata": {},
   "outputs": [
    {
     "name": "stdout",
     "output_type": "stream",
     "text": [
      "5\n"
     ]
    }
   ],
   "source": [
    "y = square_plus_one(2)\n",
    "print(y)"
   ]
  },
  {
   "attachments": {},
   "cell_type": "markdown",
   "metadata": {},
   "source": [
    "- 예시 2"
   ]
  },
  {
   "cell_type": "code",
   "execution_count": 6,
   "metadata": {},
   "outputs": [],
   "source": [
    "def square_error(a, b) :\n",
    "    se = (a-b)**2\n",
    "    return se"
   ]
  },
  {
   "cell_type": "code",
   "execution_count": 7,
   "metadata": {},
   "outputs": [
    {
     "name": "stdout",
     "output_type": "stream",
     "text": [
      "4\n"
     ]
    }
   ],
   "source": [
    "se = square_error(3, 1)\n",
    "\n",
    "print(se)"
   ]
  },
  {
   "cell_type": "code",
   "execution_count": 8,
   "metadata": {},
   "outputs": [
    {
     "name": "stdout",
     "output_type": "stream",
     "text": [
      "1\n"
     ]
    }
   ],
   "source": [
    "se = square_error(4, 3)\n",
    "\n",
    "print(se)"
   ]
  },
  {
   "attachments": {},
   "cell_type": "markdown",
   "metadata": {},
   "source": [
    "## 전역변수와 지역변수\n",
    "\n",
    "- 지역 (local) 변수 : 함수 내부에서만 일시적으로 정의되는 변수\n",
    "- 전역 (global) 변수 : 함수 내부 외부에서 모두 호출되어 사용 가능한 변수\n",
    "- 사용자 정의 함수에서 정의 된 변수는 지역 변수로 생성되며 외부에서 호출이 불가하다.\n",
    "- `global 변수` : 해당 변수를 전역변수로 지정\n",
    "- `local 변수` : 해당 변수를 지역변수로 지정"
   ]
  },
  {
   "cell_type": "code",
   "execution_count": 9,
   "metadata": {},
   "outputs": [
    {
     "name": "stdout",
     "output_type": "stream",
     "text": [
      "9\n"
     ]
    },
    {
     "ename": "NameError",
     "evalue": "name 'local_variable' is not defined",
     "output_type": "error",
     "traceback": [
      "\u001b[0;31m---------------------------------------------------------------------------\u001b[0m",
      "\u001b[0;31mNameError\u001b[0m                                 Traceback (most recent call last)",
      "Cell \u001b[0;32mIn[9], line 8\u001b[0m\n\u001b[1;32m      5\u001b[0m     \u001b[39mreturn\u001b[39;00m local_variable\n\u001b[1;32m      7\u001b[0m \u001b[39mprint\u001b[39m(g(\u001b[39m3\u001b[39m))\n\u001b[0;32m----> 8\u001b[0m \u001b[39mprint\u001b[39m(local_variable)\n",
      "\u001b[0;31mNameError\u001b[0m: name 'local_variable' is not defined"
     ]
    }
   ],
   "source": [
    "# 지역 변수를 함수 외부에서 호출하면 에러가 납니다.\n",
    "\n",
    "def g(x) :\n",
    "    local_variable = x**2\n",
    "    return local_variable\n",
    "\n",
    "print(g(3))\n",
    "print(local_variable)"
   ]
  },
  {
   "cell_type": "code",
   "execution_count": 10,
   "metadata": {},
   "outputs": [
    {
     "name": "stdout",
     "output_type": "stream",
     "text": [
      "9\n",
      "9\n"
     ]
    }
   ],
   "source": [
    "def h(x) :\n",
    "    global global_variable\n",
    "    global_variable = x**2\n",
    "    return global_variable\n",
    "\n",
    "print(h(3))\n",
    "print(global_variable)"
   ]
  },
  {
   "attachments": {},
   "cell_type": "markdown",
   "metadata": {},
   "source": [
    "## 딥레이서의 보상함수 구조\n",
    "\n",
    "- 시뮬레이션 환경으로부터 받아온 정보가 `params`에 딕셔너리로 저장되어 있습니다.\n",
    "- 보상함수는 `params` 변수를 입력받아 보상을 출력하는 구조입니다."
   ]
  },
  {
   "cell_type": "code",
   "execution_count": 14,
   "metadata": {},
   "outputs": [],
   "source": [
    "params = {\n",
    "    'x' : 10,  # 차량의 x 좌표\n",
    "    'y' : 20,  # 차량의 y 좌표\n",
    "    'speed' : 3.5,  # 차량의 속도\n",
    "    'steering_angle' : 12.7,  # 모든 바퀴가 트랙 내부에 위치하는지 여부\n",
    "    'all_wheels_on_track' : True,\n",
    "    # 기타 등등\n",
    "\n",
    "}"
   ]
  },
  {
   "attachments": {},
   "cell_type": "markdown",
   "metadata": {},
   "source": [
    "- 속도에 따른 보상함수 예시"
   ]
  },
  {
   "cell_type": "code",
   "execution_count": 16,
   "metadata": {},
   "outputs": [
    {
     "name": "stdout",
     "output_type": "stream",
     "text": [
      "2.0\n"
     ]
    }
   ],
   "source": [
    "def reward_function(params) :\n",
    "    speed = params['speed']\n",
    "    if speed > 2 :\n",
    "        reward = 2    # 속도가 2보다 크면 보상 2\n",
    "    elif speed > 1 :\n",
    "        reward = 1    # 속도가 1보다 크고 2 이하면 보상 1\n",
    "    else :\n",
    "        reward = 0   # 속도가 1 이하면 보상 0\n",
    "\n",
    "    return float(reward)   # 보상을 실수형으로 변환하여 리턴  \n",
    "\n",
    "reward = reward_function(params)\n",
    "print(reward)"
   ]
  }
 ],
 "metadata": {
  "kernelspec": {
   "display_name": "Python 3",
   "language": "python",
   "name": "python3"
  },
  "language_info": {
   "codemirror_mode": {
    "name": "ipython",
    "version": 3
   },
   "file_extension": ".py",
   "mimetype": "text/x-python",
   "name": "python",
   "nbconvert_exporter": "python",
   "pygments_lexer": "ipython3",
   "version": "3.10.6"
  },
  "orig_nbformat": 4,
  "vscode": {
   "interpreter": {
    "hash": "31f2aee4e71d21fbe5cf8b01ff0e069b9275f58929596ceb00d14d90e3e16cd6"
   }
  }
 },
 "nbformat": 4,
 "nbformat_minor": 2
}
