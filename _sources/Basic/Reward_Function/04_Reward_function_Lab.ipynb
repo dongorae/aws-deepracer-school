{
 "cells": [
  {
   "attachments": {},
   "cell_type": "markdown",
   "metadata": {},
   "source": [
    "# 보상함수 실험"
   ]
  },
  {
   "attachments": {},
   "cell_type": "markdown",
   "metadata": {},
   "source": [
    "<div style=\"position: relative; width: 100%; height: 0; padding-top: 56.2500%;\n",
    " padding-bottom: 0; box-shadow: 0 2px 8px 0 rgba(63,69,81,0.16); margin-top: 1.6em; margin-bottom: 0.9em; overflow: hidden;\n",
    " border-radius: 8px; will-change: transform;\">\n",
    "  <iframe loading=\"lazy\" style=\"position: absolute; width: 100%; height: 100%; top: 0; left: 0; border: none; padding: 0;margin: 0;\"\n",
    "    src=\"https:&#x2F;&#x2F;www.canva.com&#x2F;design&#x2F;DAFabGg2yk0&#x2F;view?embed\" allowfullscreen=\"allowfullscreen\" allow=\"fullscreen\">\n",
    "  </iframe>\n",
    "</div>"
   ]
  },
  {
   "attachments": {},
   "cell_type": "markdown",
   "metadata": {},
   "source": [
    "## Lab 1\n",
    "\n",
    "- Track : `The 2019 DeepRacer Championship Cup`\n",
    "- Race type : `Time trial`\n",
    "- algorithm : `PPO`\n",
    "  - discount_factor = `0.999`\n",
    "  - etc : default\n",
    "- action space : `Continuous`\n",
    "  - speed : default\n",
    "  - teering angle : default\n",
    "- reward_function \n",
    "  ```python\n",
    "  def reward_function(params):\n",
    "      reward = 1\n",
    "      return float(reward)\n",
    "  ```\n",
    "- 훈련 시간 : `60 분`"
   ]
  },
  {
   "attachments": {},
   "cell_type": "markdown",
   "metadata": {},
   "source": [
    "## Lab 2\n",
    "\n",
    "- Track : `The 2019 DeepRacer Championship Cup`\n",
    "- Race type : `Time trial`\n",
    "- algorithm : `PPO`\n",
    "  - discount_factor = `0`\n",
    "  - etc : default\n",
    "- action space : `Continuous`\n",
    "  - speed : default\n",
    "  - steering angle : default\n",
    "- reward_function \n",
    "  ```python\n",
    "  def reward_function(params):\n",
    "      reward = 1\n",
    "      return float(reward)\n",
    "  ```\n",
    "- 훈련 시간 : `60 분`"
   ]
  },
  {
   "attachments": {},
   "cell_type": "markdown",
   "metadata": {},
   "source": [
    "## Lab 3\n",
    "\n",
    "- Track : `The 2019 DeepRacer Championship Cup`\n",
    "- Race type : `Time trial`\n",
    "- algorithm : `PPO`\n",
    "  - discount_factor = `0`\n",
    "  - etc : default\n",
    "- action space : `Continuous`\n",
    "  - speed : default\n",
    "  - steering angle : default\n",
    "- reward_function \n",
    "  ```python\n",
    "  def reward_function(params):\n",
    "      reward = -1\n",
    "      return float(reward)\n",
    "  ```\n",
    "- 훈련 시간 : `60 분`"
   ]
  },
  {
   "attachments": {},
   "cell_type": "markdown",
   "metadata": {},
   "source": [
    "## Lab 4\n",
    "\n",
    "- Track : `The 2019 DeepRacer Championship Cup`\n",
    "- Race type : `Time trial`\n",
    "- algorithm : `PPO`\n",
    "  - discount_factor = `0`\n",
    "  - etc : default\n",
    "- action space : `Continuous`\n",
    "  - speed : `0.699 ~ 0.7`\n",
    "  - steering angle : default\n",
    "- reward_function \n",
    "  ```python\n",
    "  import math\n",
    "\n",
    "  def reward_function(params):\n",
    "      x = params['x']\n",
    "      y = params['y']\n",
    "      steering_angle = params['steering_angle']\n",
    "      steering_angle_rad = math.radians(steering_angle)\n",
    "      heading = params['heading']\n",
    "      heading_rad = math.radians(heading)\n",
    "      closest_waypoints = params['closest_waypoints']\n",
    "      waypoints = params['waypoints']\n",
    "      waypoints_len = len(waypoints) - 1\n",
    "\n",
    "      # 타켓 웨이포인트 좌표 구하기\n",
    "      closest_previous, closest_next = closest_waypoints\n",
    "      target_waypoint_idx = (closest_next + 5) % waypoints_len\n",
    "      target_waypoint = waypoints[target_waypoint_idx]\n",
    "      x_target, y_target = target_waypoint\n",
    "\n",
    "      # 현재 위치에서 타켓 웨이포인트로의 벡터의 라디안 각 구하기\n",
    "      x_target_vector = x_target - x\n",
    "      y_target_vector = y_target - y\n",
    "      target_rad = math.atan2(y_target_vector, x_target_vector)\n",
    "\n",
    "      # 정답 값\n",
    "      target_steering_angle_rad = target_rad - heading_rad\n",
    "\n",
    "      # 손실과 보상\n",
    "      loss = math.sin(target_steering_angle_rad - steering_angle_rad) ** 2\n",
    "      reward = 1 - loss\n",
    "      \n",
    "      return float(reward)\n",
    "  ```\n",
    "- 훈련 시간 : `60 분`"
   ]
  }
 ],
 "metadata": {
  "kernelspec": {
   "display_name": "Python 3",
   "language": "python",
   "name": "python3"
  },
  "language_info": {
   "codemirror_mode": {
    "name": "ipython",
    "version": 3
   },
   "file_extension": ".py",
   "mimetype": "text/x-python",
   "name": "python",
   "nbconvert_exporter": "python",
   "pygments_lexer": "ipython3",
   "version": "3.10.6"
  },
  "orig_nbformat": 4,
  "vscode": {
   "interpreter": {
    "hash": "31f2aee4e71d21fbe5cf8b01ff0e069b9275f58929596ceb00d14d90e3e16cd6"
   }
  }
 },
 "nbformat": 4,
 "nbformat_minor": 2
}
