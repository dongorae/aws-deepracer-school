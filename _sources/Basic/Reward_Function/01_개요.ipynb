{
 "cells": [
  {
   "attachments": {},
   "cell_type": "markdown",
   "metadata": {},
   "source": [
    "# Reward Function"
   ]
  },
  {
   "attachments": {},
   "cell_type": "markdown",
   "metadata": {},
   "source": [
    "<div style=\"position: relative; width: 100%; height: 0; padding-top: 56.2500%;\n",
    " padding-bottom: 0; box-shadow: 0 2px 8px 0 rgba(63,69,81,0.16); margin-top: 1.6em; margin-bottom: 0.9em; overflow: hidden;\n",
    " border-radius: 8px; will-change: transform;\">\n",
    "  <iframe loading=\"lazy\" style=\"position: absolute; width: 100%; height: 100%; top: 0; left: 0; border: none; padding: 0;margin: 0;\"\n",
    "    src=\"https:&#x2F;&#x2F;www.canva.com&#x2F;design&#x2F;DAFaayDPINM&#x2F;view?embed\" allowfullscreen=\"allowfullscreen\" allow=\"fullscreen\">\n",
    "  </iframe>\n",
    "</div>"
   ]
  },
  {
   "attachments": {},
   "cell_type": "markdown",
   "metadata": {},
   "source": [
    "- 기타 보상함수 셈플\n",
    "\n",
    "```python\n",
    "import math\n",
    "\n",
    "def reward_function(params):\n",
    "    ########## [reward_survived] survived ########## \n",
    "    reward_survived = 1\n",
    "    \n",
    "    \n",
    "     ########## [reward_wheels] all_wheels_on_track ########## \n",
    "    all_wheels_on_track = params['all_wheels_on_track']\n",
    "    if all_wheels_on_track :\n",
    "        reward_wheels = 1 \n",
    "    else:\n",
    "        reward_wheels = 0\n",
    "    \n",
    "    \n",
    "    ############## [reward_speed] speed #############\n",
    "    speed = params['speed']\n",
    "    reward_speed = speed / 4 \n",
    "    \n",
    "    \n",
    "    ############## [reward_direction] direction_diff #############\n",
    "    waypoints = params['waypoints']\n",
    "    closest_waypoints = params['closest_waypoints']\n",
    "    heading = params['heading']\n",
    "    \n",
    "    # 현재 에이전트와 가장 가까운 waypoint의 위치를 가져옵니다.\n",
    "    next_point = waypoints[closest_waypoints[1]]\n",
    "    prev_point = waypoints[closest_waypoints[0]]\n",
    "\n",
    "    # track_direction 을 계산 \n",
    "    track_direction = math.atan2(next_point[1] - prev_point[1], next_point[0] - prev_point[0])\n",
    "    track_direction = math.degrees(track_direction)  \n",
    "\n",
    "\t# 각의 차이 (direction_diff) 계산\n",
    "    direction_diff = abs(track_direction - heading)\n",
    "    if direction_diff > 180:\n",
    "        direction_diff = 360 - direction_diff\n",
    "    \n",
    "    # 보상 결정\n",
    "    direction_diff_rad = math.radians(direction_diff)\n",
    "    reward_direction = math.cos(direction_diff_rad)\n",
    "        \n",
    "        \n",
    "    ########### [reward weight sum] ############ \n",
    "    reward = 1*reward_survived + 1*reward_wheels + 1*reward_speed + 1*reward_direction\n",
    "    \n",
    "    return float(reward)\n",
    "```"
   ]
  },
  {
   "cell_type": "markdown",
   "metadata": {},
   "source": []
  }
 ],
 "metadata": {
  "kernelspec": {
   "display_name": "Python 3",
   "language": "python",
   "name": "python3"
  },
  "language_info": {
   "codemirror_mode": {
    "name": "ipython",
    "version": 3
   },
   "file_extension": ".py",
   "mimetype": "text/x-python",
   "name": "python",
   "nbconvert_exporter": "python",
   "pygments_lexer": "ipython3",
   "version": "3.10.6"
  },
  "orig_nbformat": 4,
  "vscode": {
   "interpreter": {
    "hash": "31f2aee4e71d21fbe5cf8b01ff0e069b9275f58929596ceb00d14d90e3e16cd6"
   }
  }
 },
 "nbformat": 4,
 "nbformat_minor": 2
}
