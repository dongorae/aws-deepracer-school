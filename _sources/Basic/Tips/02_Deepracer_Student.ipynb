{
 "cells": [
  {
   "attachments": {},
   "cell_type": "markdown",
   "metadata": {},
   "source": [
    "# Deepracer Student"
   ]
  },
  {
   "attachments": {},
   "cell_type": "markdown",
   "metadata": {},
   "source": [
    "\n",
    "- s3 폴더 압축파일 생성 방법 (CloudShell)\n",
    "```bash\n",
    "S3_URI=\"s3://bucket-name/...path/\"\n",
    "\n",
    "sudo -E /usr/local/bin/aws s3 cp \"$S3_URI\" \"/s3/$(basename \"$S3_URI\")\" --recursive\n",
    "sudo zip -r \"/s3/$(basename \"$S3_URI\").zip\" \"/s3/$(basename \"$S3_URI\")\"\n",
    "sudo -E /usr/local/bin/aws s3 cp \"/s3/$(basename \"$S3_URI\").zip\" \"$(dirname \"$S3_URI\")/$(basename \"$S3_URI\").zip\"\n",
    "sudo rm -r /s3\n",
    "```"
   ]
  }
 ],
 "metadata": {
  "kernelspec": {
   "display_name": "Python 3",
   "language": "python",
   "name": "python3"
  },
  "language_info": {
   "codemirror_mode": {
    "name": "ipython",
    "version": 3
   },
   "file_extension": ".py",
   "mimetype": "text/x-python",
   "name": "python",
   "nbconvert_exporter": "python",
   "pygments_lexer": "ipython3",
   "version": "3.10.6"
  },
  "orig_nbformat": 4,
  "vscode": {
   "interpreter": {
    "hash": "31f2aee4e71d21fbe5cf8b01ff0e069b9275f58929596ceb00d14d90e3e16cd6"
   }
  }
 },
 "nbformat": 4,
 "nbformat_minor": 2
}
